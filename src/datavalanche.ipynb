{
 "cells": [
  {
   "cell_type": "markdown",
   "metadata": {},
   "source": [
    "# Datavalanche\n",
    "\n",
    "## Exploratory data analysis of the SLF deadly avalanche dataset"
   ]
  },
  {
   "cell_type": "code",
   "execution_count": 59,
   "metadata": {
    "collapsed": true
   },
   "outputs": [],
   "source": [
    "import pandas as pd\n",
    "import numpy as np\n",
    "import matplotlib.pyplot as plt\n",
    "%matplotlib inline\n",
    "from datetime import date"
   ]
  },
  {
   "cell_type": "code",
   "execution_count": 62,
   "metadata": {
    "collapsed": false
   },
   "outputs": [],
   "source": [
    "def parsedate(ts):\n",
    "    return date.fromtimestamp(int(ts))\n",
    "\n",
    "data = pd.read_csv('data/avalanches.csv', parse_dates=['date_posix_ts'], date_parser=parsedate)"
   ]
  },
  {
   "cell_type": "code",
   "execution_count": 63,
   "metadata": {
    "collapsed": false
   },
   "outputs": [
    {
     "data": {
      "text/html": [
       "<div>\n",
       "<table border=\"1\" class=\"dataframe\">\n",
       "  <thead>\n",
       "    <tr style=\"text-align: right;\">\n",
       "      <th></th>\n",
       "      <th>winter</th>\n",
       "      <th>date_posix_ts</th>\n",
       "      <th>canton</th>\n",
       "      <th>community</th>\n",
       "      <th>starting_zone_Y</th>\n",
       "      <th>starting_zone_X</th>\n",
       "      <th>elevation</th>\n",
       "      <th>aspect_id</th>\n",
       "      <th>aspect_string</th>\n",
       "      <th>activity</th>\n",
       "      <th>victims</th>\n",
       "      <th>caught</th>\n",
       "      <th>buried</th>\n",
       "      <th>danger_level</th>\n",
       "    </tr>\n",
       "  </thead>\n",
       "  <tbody>\n",
       "    <tr>\n",
       "      <th>0</th>\n",
       "      <td>2015/16</td>\n",
       "      <td>2016-07-04</td>\n",
       "      <td>VS</td>\n",
       "      <td>Baltschieder</td>\n",
       "      <td>631760</td>\n",
       "      <td>138570</td>\n",
       "      <td>3440</td>\n",
       "      <td>5</td>\n",
       "      <td>E</td>\n",
       "      <td>1</td>\n",
       "      <td>1</td>\n",
       "      <td>2</td>\n",
       "      <td>0</td>\n",
       "      <td>0</td>\n",
       "    </tr>\n",
       "    <tr>\n",
       "      <th>1</th>\n",
       "      <td>2015/16</td>\n",
       "      <td>2016-05-05</td>\n",
       "      <td>GR</td>\n",
       "      <td>Flims</td>\n",
       "      <td>737700</td>\n",
       "      <td>197340</td>\n",
       "      <td>2900</td>\n",
       "      <td>6</td>\n",
       "      <td>ESE</td>\n",
       "      <td>1</td>\n",
       "      <td>1</td>\n",
       "      <td>1</td>\n",
       "      <td>1</td>\n",
       "      <td>0</td>\n",
       "    </tr>\n",
       "    <tr>\n",
       "      <th>2</th>\n",
       "      <td>2015/16</td>\n",
       "      <td>2016-04-29</td>\n",
       "      <td>VS</td>\n",
       "      <td>Naters</td>\n",
       "      <td>640290</td>\n",
       "      <td>146390</td>\n",
       "      <td>3680</td>\n",
       "      <td>11</td>\n",
       "      <td>SW</td>\n",
       "      <td>1</td>\n",
       "      <td>1</td>\n",
       "      <td>2</td>\n",
       "      <td>1</td>\n",
       "      <td>2</td>\n",
       "    </tr>\n",
       "    <tr>\n",
       "      <th>3</th>\n",
       "      <td>2015/16</td>\n",
       "      <td>2016-04-20</td>\n",
       "      <td>GR</td>\n",
       "      <td>Sils im Engadin/Segl</td>\n",
       "      <td>781510</td>\n",
       "      <td>135430</td>\n",
       "      <td>2810</td>\n",
       "      <td>3</td>\n",
       "      <td>NE</td>\n",
       "      <td>1</td>\n",
       "      <td>1</td>\n",
       "      <td>1</td>\n",
       "      <td>1</td>\n",
       "      <td>3</td>\n",
       "    </tr>\n",
       "    <tr>\n",
       "      <th>4</th>\n",
       "      <td>2015/16</td>\n",
       "      <td>2016-04-19</td>\n",
       "      <td>VS</td>\n",
       "      <td>Orsières</td>\n",
       "      <td>570830</td>\n",
       "      <td>93228</td>\n",
       "      <td>3100</td>\n",
       "      <td>2</td>\n",
       "      <td>NNE</td>\n",
       "      <td>2</td>\n",
       "      <td>1</td>\n",
       "      <td>2</td>\n",
       "      <td>1</td>\n",
       "      <td>3</td>\n",
       "    </tr>\n",
       "  </tbody>\n",
       "</table>\n",
       "</div>"
      ],
      "text/plain": [
       "    winter date_posix_ts canton             community  starting_zone_Y  \\\n",
       "0  2015/16    2016-07-04     VS          Baltschieder           631760   \n",
       "1  2015/16    2016-05-05     GR                 Flims           737700   \n",
       "2  2015/16    2016-04-29     VS                Naters           640290   \n",
       "3  2015/16    2016-04-20     GR  Sils im Engadin/Segl           781510   \n",
       "4  2015/16    2016-04-19     VS              Orsières           570830   \n",
       "\n",
       "   starting_zone_X  elevation  aspect_id aspect_string  activity  victims  \\\n",
       "0           138570       3440          5             E         1        1   \n",
       "1           197340       2900          6           ESE         1        1   \n",
       "2           146390       3680         11            SW         1        1   \n",
       "3           135430       2810          3            NE         1        1   \n",
       "4            93228       3100          2           NNE         2        1   \n",
       "\n",
       "   caught  buried  danger_level  \n",
       "0       2       0             0  \n",
       "1       1       1             0  \n",
       "2       2       1             2  \n",
       "3       1       1             3  \n",
       "4       2       1             3  "
      ]
     },
     "execution_count": 63,
     "metadata": {},
     "output_type": "execute_result"
    }
   ],
   "source": [
    "data.head()"
   ]
  },
  {
   "cell_type": "markdown",
   "metadata": {},
   "source": [
    "Let's see how many deadly avalanches occurred each year during the last 20 years"
   ]
  },
  {
   "cell_type": "code",
   "execution_count": 52,
   "metadata": {
    "collapsed": false
   },
   "outputs": [
    {
     "data": {
      "text/plain": [
       "<matplotlib.axes._subplots.AxesSubplot at 0x7fbfea8965c0>"
      ]
     },
     "execution_count": 52,
     "metadata": {},
     "output_type": "execute_result"
    },
    {
     "data": {
      "image/png": "[encoded data removed]",
      "text/plain": [
       "<matplotlib.figure.Figure at 0x7fbfea90bc18>"
      ]
     },
     "metadata": {},
     "output_type": "display_data"
    }
   ],
   "source": [
    "avalanches_per_winter = data.groupby('winter').count()['canton']\n",
    "avalanches_per_winter.plot(kind='bar')"
   ]
  },
  {
   "cell_type": "code",
   "execution_count": 70,
   "metadata": {
    "collapsed": false
   },
   "outputs": [
    {
     "data": {
      "text/plain": [
       "<matplotlib.axes._subplots.AxesSubplot at 0x7fbfea43bac8>"
      ]
     },
     "execution_count": 70,
     "metadata": {},
     "output_type": "execute_result"
    },
    {
     "data": {
      "image/png": "[encoded data removed]",
      "text/plain": [
       "<matplotlib.figure.Figure at 0x7fbfea47eac8>"
      ]
     },
     "metadata": {},
     "output_type": "display_data"
    }
   ],
   "source": [
    "data['month'] = data['date_posix_ts'].map(lambda x: x.month)\n",
    "avalanches_per_month = data.groupby('month').count()['canton']\n",
    "avalanches_per_month.plot(kind='bar')"
   ]
  },
  {
   "cell_type": "markdown",
   "metadata": {},
   "source": [
    "TODO: we should try to compare this with data about total quantities of snow per year/month !\n",
    "\n",
    "\n",
    "Let's now look at the aspect of the slopes where the avalanches occurred."
   ]
  },
  {
   "cell_type": "code",
   "execution_count": 53,
   "metadata": {
    "collapsed": false
   },
   "outputs": [
    {
     "data": {
      "text/plain": [
       "<matplotlib.axes._subplots.AxesSubplot at 0x7fbfea7b26d8>"
      ]
     },
     "execution_count": 53,
     "metadata": {},
     "output_type": "execute_result"
    },
    {
     "data": {
      "image/png": "[encoded data removed]",
      "text/plain": [
       "<matplotlib.figure.Figure at 0x7fbfea7e7358>"
      ]
     },
     "metadata": {},
     "output_type": "display_data"
    }
   ],
   "source": [
    "avalanches_per_aspect = data.groupby('aspect_string').count()['canton']\n",
    "avalanches_per_aspect.plot(kind='bar')"
   ]
  },
  {
   "cell_type": "markdown",
   "metadata": {},
   "source": [
    "It seems that north facing slopes are more dangerous. TODO: statistical test ?\n",
    "\n",
    "Avalanches per danger level: TODO compare this with average proportion of days with given danger level during a winter (we should be abl to find this on the SLF website)"
   ]
  },
  {
   "cell_type": "code",
   "execution_count": 54,
   "metadata": {
    "collapsed": false
   },
   "outputs": [
    {
     "data": {
      "text/plain": [
       "<matplotlib.axes._subplots.AxesSubplot at 0x7fbfea6eea20>"
      ]
     },
     "execution_count": 54,
     "metadata": {},
     "output_type": "execute_result"
    },
    {
     "data": {
      "image/png": "[encoded data removed]",
      "text/plain": [
       "<matplotlib.figure.Figure at 0x7fbfea727ef0>"
      ]
     },
     "metadata": {},
     "output_type": "display_data"
    }
   ],
   "source": [
    "avalanches_per_danger = data.groupby('danger_level').count()['canton']\n",
    "avalanches_per_danger.plot(kind='bar')"
   ]
  },
  {
   "cell_type": "markdown",
   "metadata": {},
   "source": [
    "Let's see the distribution of avalanche starting point elevation"
   ]
  },
  {
   "cell_type": "code",
   "execution_count": 92,
   "metadata": {
    "collapsed": false
   },
   "outputs": [
    {
     "name": "stdout",
     "output_type": "stream",
     "text": [
      "Mean avalanche start point elevation: 2519.9526462395543\n"
     ]
    },
    {
     "data": {
      "text/plain": [
       "<matplotlib.axes._subplots.AxesSubplot at 0x7fbfe9a18668>"
      ]
     },
     "execution_count": 92,
     "metadata": {},
     "output_type": "execute_result"
    },
    {
     "data": {
      "image/png": "[encoded data removed]",
      "text/plain": [
       "<matplotlib.figure.Figure at 0x7fbfe9ab6710>"
      ]
     },
     "metadata": {},
     "output_type": "display_data"
    }
   ],
   "source": [
    "print('Mean avalanche start point elevation:', data['elevation'].mean())\n",
    "data['elevation'].hist(bins=20)"
   ]
  },
  {
   "cell_type": "code",
   "execution_count": 93,
   "metadata": {
    "collapsed": false
   },
   "outputs": [
    {
     "name": "stdout",
     "output_type": "stream",
     "text": [
      "Mean avalanche start point elevation: 2755.869918699187\n"
     ]
    },
    {
     "data": {
      "text/plain": [
       "<matplotlib.axes._subplots.AxesSubplot at 0x7fbfe9985518>"
      ]
     },
     "execution_count": 93,
     "metadata": {},
     "output_type": "execute_result"
    },
    {
     "data": {
      "image/png": "[encoded data removed]",
      "text/plain": [
       "<matplotlib.figure.Figure at 0x7fbfe9925908>"
      ]
     },
     "metadata": {},
     "output_type": "display_data"
    }
   ],
   "source": [
    "# TODO: maybe not so useful...\n",
    "# Usually we don't go at high altitudes during the winter.\n",
    "# Let's see if the mean altitude changes when not taking into account winter months\n",
    "filtered_elevations = data[(data['month'] > 2) & (data['month'] < 11)]['elevation']\n",
    "print('Mean avalanche start point elevation:', filtered_elevations.mean())\n",
    "filtered_elevations.hist(bins=20)"
   ]
  },
  {
   "cell_type": "code",
   "execution_count": null,
   "metadata": {
    "collapsed": true
   },
   "outputs": [],
   "source": [
    "# TODO: Some fancy map with avalanches per canton :D ?"
   ]
  },
  {
   "cell_type": "code",
   "execution_count": null,
   "metadata": {
    "collapsed": true
   },
   "outputs": [],
   "source": []
  }
 ],
 "metadata": {
  "kernelspec": {
   "display_name": "Python [Root]",
   "language": "python",
   "name": "Python [Root]"
  },
  "language_info": {
   "codemirror_mode": {
    "name": "ipython",
    "version": 3
   },
   "file_extension": ".py",
   "mimetype": "text/x-python",
   "name": "python",
   "nbconvert_exporter": "python",
   "pygments_lexer": "ipython3",
   "version": "3.5.2"
  }
 },
 "nbformat": 4,
 "nbformat_minor": 0
}
